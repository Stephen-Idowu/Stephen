{
  "nbformat": 4,
  "nbformat_minor": 0,
  "metadata": {
    "colab": {
      "name": "Hamoye Course 4 Lesson 1.ipynb",
      "provenance": [],
      "collapsed_sections": [],
      "authorship_tag": "ABX9TyMzYKkmnfpKEjp0jrdYqRQn",
      "include_colab_link": true
    },
    "kernelspec": {
      "name": "python3",
      "display_name": "Python 3"
    },
    "language_info": {
      "name": "python"
    }
  },
  "cells": [
    {
      "cell_type": "markdown",
      "metadata": {
        "id": "view-in-github",
        "colab_type": "text"
      },
      "source": [
        "<a href=\"https://colab.research.google.com/github/StephenCloud/Stephen/blob/main/Hamoye_Course_4_Lesson_1.ipynb\" target=\"_parent\"><img src=\"https://colab.research.google.com/assets/colab-badge.svg\" alt=\"Open In Colab\"/></a>"
      ]
    },
    {
      "cell_type": "code",
      "metadata": {
        "id": "_2rk_TCK8TlT",
        "colab": {
          "base_uri": "https://localhost:8080/"
        },
        "outputId": "b4db32b2-a119-4cdc-fd8b-15009e914fe2"
      },
      "source": [
        "import numpy as np\n",
        "import matplotlib.pyplot as plt\n",
        "import tensorflow as tf\n",
        "from tensorflow import keras \n",
        "mnist = keras.datasets.mnist\n",
        "(train_images, train_labels), (test_images, test_labels) = mnist.load_data()"
      ],
      "execution_count": 1,
      "outputs": [
        {
          "output_type": "stream",
          "name": "stdout",
          "text": [
            "Downloading data from https://storage.googleapis.com/tensorflow/tf-keras-datasets/mnist.npz\n",
            "11493376/11490434 [==============================] - 0s 0us/step\n",
            "11501568/11490434 [==============================] - 0s 0us/step\n"
          ]
        }
      ]
    },
    {
      "cell_type": "code",
      "metadata": {
        "colab": {
          "base_uri": "https://localhost:8080/"
        },
        "id": "4Zd7S1kY8rfi",
        "outputId": "3552cc35-5163-4f43-8bef-63a8f9d7d532"
      },
      "source": [
        "print(\"Training data: {}, {}\".format(train_images.shape, train_labels.shape))"
      ],
      "execution_count": 2,
      "outputs": [
        {
          "output_type": "stream",
          "name": "stdout",
          "text": [
            "Training data: (60000, 28, 28), (60000,)\n"
          ]
        }
      ]
    },
    {
      "cell_type": "code",
      "metadata": {
        "colab": {
          "base_uri": "https://localhost:8080/"
        },
        "id": "gFj8oHAH95Yq",
        "outputId": "427ab8a3-de13-4460-ebc9-e4c51699bb9d"
      },
      "source": [
        "print(\"Test data: {}, {}\".format(test_images.shape, test_labels.shape))"
      ],
      "execution_count": 3,
      "outputs": [
        {
          "output_type": "stream",
          "name": "stdout",
          "text": [
            "Test data: (10000, 28, 28), (10000,)\n"
          ]
        }
      ]
    },
    {
      "cell_type": "code",
      "metadata": {
        "colab": {
          "base_uri": "https://localhost:8080/"
        },
        "id": "dBEoIIHIB4Nd",
        "outputId": "93d56525-c20d-46a6-952e-7230be9e3ede"
      },
      "source": [
        "class_labels = np.unique(train_labels)\n",
        "print(\"There are {} classes in the dataset. They are: {}\".format(len(class_labels),class_labels))"
      ],
      "execution_count": 4,
      "outputs": [
        {
          "output_type": "stream",
          "name": "stdout",
          "text": [
            "There are 10 classes in the dataset. They are: [0 1 2 3 4 5 6 7 8 9]\n"
          ]
        }
      ]
    },
    {
      "cell_type": "code",
      "metadata": {
        "id": "MmdxRBaULWql"
      },
      "source": [
        "#Visualize the image"
      ],
      "execution_count": null,
      "outputs": []
    },
    {
      "cell_type": "code",
      "metadata": {
        "colab": {
          "base_uri": "https://localhost:8080/",
          "height": 52
        },
        "id": "InFQCrCYLoit",
        "outputId": "cc7ed0da-476c-49e5-8742-a03831d4c2e5"
      },
      "source": [
        "plt.figure(figsize=(8,5))"
      ],
      "execution_count": 5,
      "outputs": [
        {
          "output_type": "execute_result",
          "data": {
            "text/plain": [
              "<Figure size 576x360 with 0 Axes>"
            ]
          },
          "metadata": {},
          "execution_count": 5
        },
        {
          "output_type": "display_data",
          "data": {
            "text/plain": [
              "<Figure size 576x360 with 0 Axes>"
            ]
          },
          "metadata": {}
        }
      ]
    },
    {
      "cell_type": "code",
      "metadata": {
        "colab": {
          "base_uri": "https://localhost:8080/",
          "height": 180
        },
        "id": "DbhljB9SL1HK",
        "outputId": "12cb6dc2-d20f-4bb1-8e5d-4a5bf362b84c"
      },
      "source": [
        "plt.subplot(1,3,1)\n",
        "plt.imshow(train_images[0])\n",
        "plt.title(\"Label: {}\".format(train_labels[0]))"
      ],
      "execution_count": 6,
      "outputs": [
        {
          "output_type": "execute_result",
          "data": {
            "text/plain": [
              "Text(0.5, 1.0, 'Label: 5')"
            ]
          },
          "metadata": {},
          "execution_count": 6
        },
        {
          "output_type": "display_data",
          "data": {
            "image/png": "[encoded data removed]",
            "text/plain": [
              "<Figure size 432x288 with 1 Axes>"
            ]
          },
          "metadata": {
            "needs_background": "light"
          }
        }
      ]
    },
    {
      "cell_type": "code",
      "metadata": {
        "colab": {
          "base_uri": "https://localhost:8080/",
          "height": 180
        },
        "id": "WljvR8sWL5-x",
        "outputId": "bd06843e-589e-4ae2-ae30-6cf3e43a68db"
      },
      "source": [
        "plt.subplot(1,3,2)\n",
        "plt.imshow(train_images[2500])\n",
        "plt.title(\"Label: {}\".format(train_labels[2500]))"
      ],
      "execution_count": 7,
      "outputs": [
        {
          "output_type": "execute_result",
          "data": {
            "text/plain": [
              "Text(0.5, 1.0, 'Label: 0')"
            ]
          },
          "metadata": {},
          "execution_count": 7
        },
        {
          "output_type": "display_data",
          "data": {
            "image/png": "[encoded data removed]",
            "text/plain": [
              "<Figure size 432x288 with 1 Axes>"
            ]
          },
          "metadata": {
            "needs_background": "light"
          }
        }
      ]
    },
    {
      "cell_type": "code",
      "metadata": {
        "colab": {
          "base_uri": "https://localhost:8080/",
          "height": 166
        },
        "id": "o1exbkp3PHiM",
        "outputId": "cdaff42e-f413-47cd-b649-b9866258ebf3"
      },
      "source": [
        "plt.subplot(1,3,3)\n",
        "plt.imshow(test_images[12])"
      ],
      "execution_count": 8,
      "outputs": [
        {
          "output_type": "execute_result",
          "data": {
            "text/plain": [
              "<matplotlib.image.AxesImage at 0x7ff0f809dd50>"
            ]
          },
          "metadata": {},
          "execution_count": 8
        },
        {
          "output_type": "display_data",
          "data": {
            "image/png": "[encoded data removed]",
            "text/plain": [
              "<Figure size 432x288 with 1 Axes>"
            ]
          },
          "metadata": {
            "needs_background": "light"
          }
        }
      ]
    },
    {
      "cell_type": "code",
      "metadata": {
        "id": "UcAbKoYtPodo"
      },
      "source": [
        "plt.show()"
      ],
      "execution_count": 9,
      "outputs": []
    },
    {
      "cell_type": "code",
      "metadata": {
        "id": "qVTpVDsFQ5ky"
      },
      "source": [
        "#Scaling our dataset to range between o and 1 in this dataset the pixel value ranges from 0 abd 225\n",
        "#Dividing the data by 255\n"
      ],
      "execution_count": null,
      "outputs": []
    },
    {
      "cell_type": "code",
      "metadata": {
        "id": "XQ6bulQ4SUU9"
      },
      "source": [
        "train_images = train_images/255.0\n",
        "test_images = test_images/ 255.0"
      ],
      "execution_count": 10,
      "outputs": []
    },
    {
      "cell_type": "code",
      "metadata": {
        "id": "3mXd05B2XEjV"
      },
      "source": [
        "#Spliting training data to training and validation sets"
      ],
      "execution_count": null,
      "outputs": []
    },
    {
      "cell_type": "code",
      "metadata": {
        "id": "2bXZsOaDXRFz"
      },
      "source": [
        "x_train = train_images[0:50000]\n",
        "x_val = train_images[50000:]\n",
        "y_train = train_labels[0:50000]\n",
        "y_val = train_labels[50000:]"
      ],
      "execution_count": 11,
      "outputs": []
    },
    {
      "cell_type": "code",
      "metadata": {
        "colab": {
          "base_uri": "https://localhost:8080/"
        },
        "id": "XyVc0xT0YFMf",
        "outputId": "05244549-41cf-4be0-cda8-42b2ff7b9ffd"
      },
      "source": [
        "print(\"x_train: {}\".format(x_train.shape))\n",
        "print(\"x_val: {}\".format(x_val.shape))\n",
        "print(\"y_train: {}\".format(y_train.shape))\n",
        "print(\"y_val: {}\".format(y_val.shape))"
      ],
      "execution_count": 12,
      "outputs": [
        {
          "output_type": "stream",
          "name": "stdout",
          "text": [
            "x_train: (50000, 28, 28)\n",
            "x_val: (10000, 28, 28)\n",
            "y_train: (50000,)\n",
            "y_val: (10000,)\n"
          ]
        }
      ]
    },
    {
      "cell_type": "code",
      "metadata": {
        "id": "-76LL9T6cac6"
      },
      "source": [
        "#Reshaping data from 28*28 array to single array"
      ],
      "execution_count": null,
      "outputs": []
    },
    {
      "cell_type": "code",
      "metadata": {
        "id": "GWsLIJJvcpEI"
      },
      "source": [
        "new_dimension = np.prod(train_images.shape[1:])\n",
        "x_train = x_train.reshape(x_train.shape[0], new_dimension)\n",
        "x_val = x_val.reshape(x_val.shape[0], new_dimension)\n",
        "test_images = test_images.reshape(test_images.shape[0], new_dimension)"
      ],
      "execution_count": 13,
      "outputs": []
    },
    {
      "cell_type": "code",
      "metadata": {
        "colab": {
          "base_uri": "https://localhost:8080/"
        },
        "id": "U81kn0uDeR1Z",
        "outputId": "64ce5a07-1d95-4e97-a63c-b61c9242d367"
      },
      "source": [
        "print(\"x_train: {}\".format(x_train.shape))\n",
        "print(\"x_val: {}\".format(x_val.shape))\n",
        "print(\"test_images: {}\".format(test_images.shape))"
      ],
      "execution_count": 14,
      "outputs": [
        {
          "output_type": "stream",
          "name": "stdout",
          "text": [
            "x_train: (50000, 784)\n",
            "x_val: (10000, 784)\n",
            "test_images: (10000, 784)\n"
          ]
        }
      ]
    },
    {
      "cell_type": "code",
      "metadata": {
        "id": "rTQstVE0fiOC"
      },
      "source": [
        "#Encode labels to categorical variables "
      ],
      "execution_count": null,
      "outputs": []
    },
    {
      "cell_type": "code",
      "metadata": {
        "id": "lQajzF_Ufv5b"
      },
      "source": [
        "from tensorflow.keras.utils import to_categorical\n",
        "no_labels = 10\n",
        "y_train = to_categorical(y_train, no_labels)\n",
        "y_val = to_categorical(y_val, no_labels)\n",
        "y_test = to_categorical(test_labels, no_labels)"
      ],
      "execution_count": 15,
      "outputs": []
    },
    {
      "cell_type": "code",
      "metadata": {
        "id": "zXz_jLdlg3hj"
      },
      "source": [
        "#Activation functions and Neurals Networks Hyperparameters"
      ],
      "execution_count": null,
      "outputs": []
    },
    {
      "cell_type": "code",
      "metadata": {
        "colab": {
          "base_uri": "https://localhost:8080/"
        },
        "id": "ApvTnIEShLwW",
        "outputId": "6ae94a2a-909e-4fb1-8248-f3375dcc5212"
      },
      "source": [
        "X = tf.placeholder(tf.float32, [none, new_dimension])\n",
        "Y = tf.placeholder(tf.float32, [none, no_labels])"
      ],
      "execution_count": null,
      "outputs": [
        {
          "output_type": "error",
          "ename": "AttributeError",
          "evalue": "ignored",
          "traceback": [
            "\u001b[0;31m---------------------------------------------------------------------------\u001b[0m",
            "\u001b[0;31mAttributeError\u001b[0m                            Traceback (most recent call last)",
            "\u001b[0;32m<ipython-input-83-c71b0a99a6e7>\u001b[0m in \u001b[0;36m<module>\u001b[0;34m()\u001b[0m\n\u001b[0;32m----> 1\u001b[0;31m \u001b[0mX\u001b[0m \u001b[0;34m=\u001b[0m \u001b[0mtf\u001b[0m\u001b[0;34m.\u001b[0m\u001b[0mplaceholder\u001b[0m\u001b[0;34m(\u001b[0m\u001b[0mtf\u001b[0m\u001b[0;34m.\u001b[0m\u001b[0mfloat32\u001b[0m\u001b[0;34m,\u001b[0m \u001b[0;34m[\u001b[0m\u001b[0mnone\u001b[0m\u001b[0;34m,\u001b[0m \u001b[0mnew_dimension\u001b[0m\u001b[0;34m]\u001b[0m\u001b[0;34m)\u001b[0m\u001b[0;34m\u001b[0m\u001b[0;34m\u001b[0m\u001b[0m\n\u001b[0m\u001b[1;32m      2\u001b[0m \u001b[0mY\u001b[0m \u001b[0;34m=\u001b[0m \u001b[0mtf\u001b[0m\u001b[0;34m.\u001b[0m\u001b[0mplaceholder\u001b[0m\u001b[0;34m(\u001b[0m\u001b[0mtf\u001b[0m\u001b[0;34m.\u001b[0m\u001b[0mfloat32\u001b[0m\u001b[0;34m,\u001b[0m \u001b[0;34m[\u001b[0m\u001b[0mnone\u001b[0m\u001b[0;34m,\u001b[0m \u001b[0mno_labels\u001b[0m\u001b[0;34m]\u001b[0m\u001b[0;34m)\u001b[0m\u001b[0;34m\u001b[0m\u001b[0;34m\u001b[0m\u001b[0m\n",
            "\u001b[0;31mAttributeError\u001b[0m: module 'tensorflow' has no attribute 'placeholder'"
          ]
        }
      ]
    },
    {
      "cell_type": "code",
      "metadata": {
        "colab": {
          "base_uri": "https://localhost:8080/",
          "height": 135
        },
        "id": "5EtOeDq8hzMT",
        "outputId": "495bb750-0bc2-42c6-cfa7-5baa1d668d1e"
      },
      "source": [
        "#Create a Model Architecture \n",
        "def multilayer_perceptron(x, no_classes, first_layer_neurons=256, second_layer_neurons=128):"
      ],
      "execution_count": 17,
      "outputs": [
        {
          "output_type": "error",
          "ename": "SyntaxError",
          "evalue": "ignored",
          "traceback": [
            "\u001b[0;36m  File \u001b[0;32m\"<ipython-input-17-a9b38775c7dc>\"\u001b[0;36m, line \u001b[0;32m2\u001b[0m\n\u001b[0;31m    def multilayer_perceptron(x, no_classes, first_layer_neurons=256, second_layer_neurons=128):\u001b[0m\n\u001b[0m                                                                                                ^\u001b[0m\n\u001b[0;31mSyntaxError\u001b[0m\u001b[0;31m:\u001b[0m unexpected EOF while parsing\n"
          ]
        }
      ]
    },
    {
      "cell_type": "code",
      "metadata": {
        "colab": {
          "base_uri": "https://localhost:8080/",
          "height": 225
        },
        "id": "Gbd0kis4opc0",
        "outputId": "b3c8595f-e93d-4d9a-bda4-2a52fca020e5"
      },
      "source": [
        "#First Layer \n",
        "first_weight = tf.Variable(tf.random_uniform([new_dimension, first_layer_neurons]))\n",
        "first_bias = tf.Variable(tf.zeros([first_layer_neurons]))\n",
        "first_layer_output = tf.nn.relu(tf.add(tf.matmul(x, first_weight), first_bias))"
      ],
      "execution_count": 18,
      "outputs": [
        {
          "output_type": "error",
          "ename": "AttributeError",
          "evalue": "ignored",
          "traceback": [
            "\u001b[0;31m---------------------------------------------------------------------------\u001b[0m",
            "\u001b[0;31mAttributeError\u001b[0m                            Traceback (most recent call last)",
            "\u001b[0;32m<ipython-input-18-f8b80b39680b>\u001b[0m in \u001b[0;36m<module>\u001b[0;34m()\u001b[0m\n\u001b[1;32m      1\u001b[0m \u001b[0;31m#First Layer\u001b[0m\u001b[0;34m\u001b[0m\u001b[0;34m\u001b[0m\u001b[0;34m\u001b[0m\u001b[0m\n\u001b[0;32m----> 2\u001b[0;31m \u001b[0mfirst_weight\u001b[0m \u001b[0;34m=\u001b[0m \u001b[0mtf\u001b[0m\u001b[0;34m.\u001b[0m\u001b[0mVariable\u001b[0m\u001b[0;34m(\u001b[0m\u001b[0mtf\u001b[0m\u001b[0;34m.\u001b[0m\u001b[0mrandom_uniform\u001b[0m\u001b[0;34m(\u001b[0m\u001b[0;34m[\u001b[0m\u001b[0mnew_dimension\u001b[0m\u001b[0;34m,\u001b[0m \u001b[0mfirst_layer_neurons\u001b[0m\u001b[0;34m]\u001b[0m\u001b[0;34m)\u001b[0m\u001b[0;34m)\u001b[0m\u001b[0;34m\u001b[0m\u001b[0;34m\u001b[0m\u001b[0m\n\u001b[0m\u001b[1;32m      3\u001b[0m \u001b[0mfirst_bias\u001b[0m \u001b[0;34m=\u001b[0m \u001b[0mtf\u001b[0m\u001b[0;34m.\u001b[0m\u001b[0mVariable\u001b[0m\u001b[0;34m(\u001b[0m\u001b[0mtf\u001b[0m\u001b[0;34m.\u001b[0m\u001b[0mzeros\u001b[0m\u001b[0;34m(\u001b[0m\u001b[0;34m[\u001b[0m\u001b[0mfirst_layer_neurons\u001b[0m\u001b[0;34m]\u001b[0m\u001b[0;34m)\u001b[0m\u001b[0;34m)\u001b[0m\u001b[0;34m\u001b[0m\u001b[0;34m\u001b[0m\u001b[0m\n\u001b[1;32m      4\u001b[0m \u001b[0mfirst_layer_output\u001b[0m \u001b[0;34m=\u001b[0m \u001b[0mtf\u001b[0m\u001b[0;34m.\u001b[0m\u001b[0mnn\u001b[0m\u001b[0;34m.\u001b[0m\u001b[0mrelu\u001b[0m\u001b[0;34m(\u001b[0m\u001b[0mtf\u001b[0m\u001b[0;34m.\u001b[0m\u001b[0madd\u001b[0m\u001b[0;34m(\u001b[0m\u001b[0mtf\u001b[0m\u001b[0;34m.\u001b[0m\u001b[0mmatmul\u001b[0m\u001b[0;34m(\u001b[0m\u001b[0mx\u001b[0m\u001b[0;34m,\u001b[0m \u001b[0mfirst_weight\u001b[0m\u001b[0;34m)\u001b[0m\u001b[0;34m,\u001b[0m \u001b[0mfirst_bias\u001b[0m\u001b[0;34m)\u001b[0m\u001b[0;34m)\u001b[0m\u001b[0;34m\u001b[0m\u001b[0;34m\u001b[0m\u001b[0m\n",
            "\u001b[0;31mAttributeError\u001b[0m: module 'tensorflow' has no attribute 'random_uniform'"
          ]
        }
      ]
    },
    {
      "cell_type": "code",
      "metadata": {
        "id": "2RaIDL34pyx1"
      },
      "source": [
        "#Second layer \n",
        "second_weight = tf.Variable(tf.random_unifom([first_layer_neurons, second_layer_neurons]))\n",
        "second_bias = tf.Variable(tf.zeros([second_layer_neurons]))\n",
        "second_layer_output = tf.nn.relu(tf.add(tf.matmul(first_layer_output, second_weight),\n",
        "                                        second_bias))"
      ],
      "execution_count": null,
      "outputs": []
    },
    {
      "cell_type": "code",
      "metadata": {
        "id": "GXSS7STMrdMP"
      },
      "source": [
        "#Output layer\n",
        "final_weight = tf.Variable(tf.random_uniform([second_layer_neurons, no_classes]))\n",
        "final_bias = tf.Variable(tf.zeos([no_classes]))\n",
        "logits = tf.add(tf.matmul(second_layer_output, final_weight), final_bias)"
      ],
      "execution_count": null,
      "outputs": []
    },
    {
      "cell_type": "code",
      "metadata": {
        "id": "pAxovXoqsWRo"
      },
      "source": [
        "return logits"
      ],
      "execution_count": null,
      "outputs": []
    },
    {
      "cell_type": "code",
      "metadata": {
        "id": "udSrQG3Cs7wr"
      },
      "source": [
        "#Call the Multilayer Perceptron Function "
      ],
      "execution_count": null,
      "outputs": []
    },
    {
      "cell_type": "code",
      "metadata": {
        "id": "RqYwRcu5sY3p"
      },
      "source": [
        "logits = multilayer_preceptron(x, no_labels)\n"
      ],
      "execution_count": null,
      "outputs": []
    },
    {
      "cell_type": "code",
      "metadata": {
        "id": "ZQBtFFKmsw3G"
      },
      "source": [
        "learning_rate = 0.01\n",
        "\n",
        "#we define the loss and optimiser for the network\n",
        "loss_op = tf.reduce_mean(tf.nn.softmax_cross_entropy_with_logits(logits=logits, labels=y))\n",
        "optimiser tf.train.AdamOptimizer(learning_rate=learning_rate)\n",
        "train_op = optimiser.minimize(loss_op)"
      ],
      "execution_count": null,
      "outputs": []
    },
    {
      "cell_type": "code",
      "metadata": {
        "id": "fJWVvj8BuXg6"
      },
      "source": [
        "#Initialize the Variables\n",
        "init = tf.global_variables_initializer()\n",
        "\n",
        "epochs = 20\n",
        "batch_size = 1000\n",
        "iteration = len(x_train) // batch_size"
      ],
      "execution_count": null,
      "outputs": []
    },
    {
      "cell_type": "code",
      "metadata": {
        "id": "wBNJe9Q2vA0M"
      },
      "source": [
        "#Train Model\n",
        "with tf.Session() as session: \n",
        "  session.run(init)\n",
        "  for epoch in range(epochs):\n",
        "    average_cost = 0\n",
        "    start, end = 0, batch_size\n",
        "\n",
        "    for i in range(iteration):\n",
        "      batch_x, batch_y = x_train[start: end], y_train[start: end]\n",
        "      _, loss = session.run([train_op, loss_op], feed_dict={x: batch_x, y: batch_y})\n",
        "      start += batch_size\n",
        "      end += batch_size"
      ],
      "execution_count": null,
      "outputs": []
    },
    {
      "cell_type": "code",
      "metadata": {
        "id": "Itb8PoWCwk3N"
      },
      "source": [
        "#Average loss\n",
        "average_cost += loss/iteration\n",
        "print(\"Epoch========{}\".format(epoch))"
      ],
      "execution_count": null,
      "outputs": []
    },
    {
      "cell_type": "code",
      "metadata": {
        "id": "wMaZas8byFS3"
      },
      "source": [
        "#Evaluation Model\n",
        "prediction = tf.nn.softmax(logits)\n",
        "ground_truth = tf.equal(tf.argmax(prediction, 1), tf.argmax(Y,1))\n",
        "accuracy = tf.reduce_mean(tf.cast(ground_truth, \"float\"))\n",
        "print(\"Accuracy: {}\".format(accuracy.eval({X:test_images, Y: y_test})))"
      ],
      "execution_count": null,
      "outputs": []
    }
  ]
}